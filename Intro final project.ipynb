{
 "cells": [
  {
   "cell_type": "markdown",
   "metadata": {},
   "source": [
    "# COURSE 9: Applied Data Science Capstone\n",
    "Final project\n"
   ]
  },
  {
   "cell_type": "markdown",
   "metadata": {},
   "source": [
    "**by Diana Orjuela**"
   ]
  },
  {
   "cell_type": "markdown",
   "metadata": {},
   "source": [
    "Introduction/Business Problem:\n",
    "\n",
    "LKA is a company focus on the marketing and distribution of products and services for pets (cats and dogs). It is a startup that operates through an app and a website that allows its customers to create orders, request services and make purchases online. LKA's value proposition is to provide a whole universe of delivery services so that the furry pets of the families have everything they need.\n",
    "In order to improve LKA communication model with its customers and achieve the true omnichannel. It is necessary to find the best place in the city of Bogotá, so that the company builds its first location that will offer top quality multiservices that will be part of an exciting loyalty program and also will improve the service experience of its current clients. "
   ]
  },
  {
   "cell_type": "markdown",
   "metadata": {},
   "source": [
    "Data description:\n",
    "\n",
    "The datasets will include as follow: postal zone, store name, borough, neighborhood, longitude and latitude. I will use data from Foursquare.\n",
    "It is required to look for pet stores and veterinary services companies in the city of Bogotá and find out the places in the city where they are group up. The place of greatest concentration of these companies will be the place to build the new headquarters of the LKA company."
   ]
  },
  {
   "cell_type": "code",
   "execution_count": null,
   "metadata": {},
   "outputs": [],
   "source": []
  }
 ],
 "metadata": {
  "kernelspec": {
   "display_name": "Python",
   "language": "python",
   "name": "conda-env-python-py"
  },
  "language_info": {
   "codemirror_mode": {
    "name": "ipython",
    "version": 3
   },
   "file_extension": ".py",
   "mimetype": "text/x-python",
   "name": "python",
   "nbconvert_exporter": "python",
   "pygments_lexer": "ipython3",
   "version": "3.6.11"
  }
 },
 "nbformat": 4,
 "nbformat_minor": 4
}
